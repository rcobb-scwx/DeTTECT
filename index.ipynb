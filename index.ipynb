{
 "cells": [
  {
   "cell_type": "markdown",
   "metadata": {},
   "source": [
    "# Welcome to DeTTECT"
   ]
  },
  {
   "cell_type": "markdown",
   "metadata": {},
   "source": [
    "[![Binder](https://mybinder.org/badge_logo.svg)](https://mybinder.org/v2/gh/rcobb-scwx/DeTTECT/master)"
   ]
  },
  {
   "cell_type": "code",
   "execution_count": 2,
   "metadata": {},
   "outputs": [
    {
     "name": "stdout",
     "output_type": "stream",
     "text": [
      "usage: dettect.py [-h] [--version] [-i]  ...\n",
      "\n",
      "Detect Tactics, Techniques & Combat Threats\n",
      "\n",
      "optional arguments:\n",
      "  -h, --help         show this help message and exit\n",
      "  --version          show program's version number and exit\n",
      "  -i, --interactive  launch the interactive menu, which has support for all\n",
      "                     modes\n",
      "\n",
      "MODE:\n",
      "  Select the mode to use. Every mode has its own arguments and help info\n",
      "  displayed using: {editor, datasource, visibility, detection, group,\n",
      "  generic} --help\n",
      "\n",
      "  \n",
      "    editor (e)       DeTT&CT Editor\n",
      "    datasource (ds)  data source mapping and quality\n",
      "    visibility (v)   visibility coverage mapping based on techniques and data\n",
      "                     sources\n",
      "    detection (d)    detection coverage mapping based on techniques\n",
      "    group (g)        threat actor group mapping\n",
      "    generic (ge)     includes: statistics on ATT&CK data source and updates on\n",
      "                     techniques, groups and software\n",
      "\n",
      "Source: https://github.com/rabobank-cdc/DeTTECT\n"
     ]
    }
   ],
   "source": [
    "!python dettect.py -h"
   ]
  },
  {
   "cell_type": "code",
   "execution_count": 4,
   "metadata": {},
   "outputs": [
    {
     "name": "stdout",
     "output_type": "stream",
     "text": [
      "usage: dettect.py datasource [-h] [-ft FILE_TECH] -fd FILE_DS [-s SEARCH] [-l]\n",
      "                             [-e] [-g] [-y] [-ya] [-u] [--health]\n",
      "\n",
      "Create a heat map based on data sources, output data sources to Excel or\n",
      "generate a data source improvement graph.\n",
      "\n",
      "optional arguments:\n",
      "  -h, --help            show this help message and exit\n",
      "  -ft FILE_TECH, --file-tech FILE_TECH\n",
      "                        path to the technique administration YAML file (used\n",
      "                        with the option '-u, --update' to update the\n",
      "                        visibility scores)\n",
      "  -fd FILE_DS, --file-ds FILE_DS\n",
      "                        path to the data source administration YAML file\n",
      "  -s SEARCH, --search SEARCH\n",
      "                        only include data sources which match the provided EQL\n",
      "                        query\n",
      "  -l, --layer           generate a data source layer for the ATT&CK navigator\n",
      "  -e, --excel           generate an Excel sheet with all data source\n",
      "  -g, --graph           generate a graph with data sources added through time\n",
      "  -y, --yaml            generate a technique administration YAML file with\n",
      "                        visibility scores based on the number of available\n",
      "                        data sources\n",
      "  -ya, --yaml-all-techniques\n",
      "                        include all ATT&CK techniques in the generated YAML\n",
      "                        file (when the argument -y, --yaml is provided) that\n",
      "                        apply to the platform(s) specified in the data source\n",
      "                        YAML file\n",
      "  -u, --update          update the visibility scores within a technique\n",
      "                        administration YAML file based on changes within any\n",
      "                        of the data sources. Past visibility scores are\n",
      "                        preserved in the 'score_logbook', and manually\n",
      "                        assigned scores are not updated without your approval.\n",
      "                        The updated visibility scores are calculated in the\n",
      "                        same way as with the option: -y, --yaml\n",
      "  --health              check the YAML file(s) for errors\n"
     ]
    }
   ],
   "source": [
    "!python dettect.py datasource -h"
   ]
  },
  {
   "cell_type": "code",
   "execution_count": 6,
   "metadata": {},
   "outputs": [
    {
     "name": "stdout",
     "output_type": "stream",
     "text": [
      "usage: dettect.py generic [-h] [-ds] [-m {enterprise,mobile}]\n",
      "                          [-u {techniques,groups,software}]\n",
      "                          [--sort {modified,created}]\n",
      "\n",
      "Generic functions which will output to stdout.\n",
      "\n",
      "optional arguments:\n",
      "  -h, --help            show this help message and exit\n",
      "  -ds, --datasources    get a sorted count on how many ATT&CK Enterprise\n",
      "                        techniques are covered by a particular Data Source\n",
      "  -m {enterprise,mobile}, --mitigations {enterprise,mobile}\n",
      "                        get a sorted count on how many ATT&CK Enterprise or\n",
      "                        Mobile techniques are covered by a Mitigation\n",
      "  -u {techniques,groups,software}, --updates {techniques,groups,software}\n",
      "                        get a sorted list for when updates were released for\n",
      "                        techniques, groups or software\n",
      "  --sort {modified,created}\n",
      "                        sorting of the output from '-u/--update' on modified\n",
      "                        or creation date (default = modified)\n"
     ]
    }
   ],
   "source": [
    "!python dettect.py generic -h"
   ]
  },
  {
   "cell_type": "code",
   "execution_count": 7,
   "metadata": {},
   "outputs": [
    {
     "name": "stdout",
     "output_type": "stream",
     "text": [
      "Count  Data Source\n",
      "--------------------------------------------------\n",
      "178    Process monitoring\n",
      "107    File monitoring\n",
      "103    Process command-line parameters\n",
      "49     API monitoring\n",
      "39     Process use of network\n",
      "37     Packet capture\n",
      "36     Windows Registry\n",
      "30     Authentication logs\n",
      "28     Netflow/Enclave netflow\n",
      "26     Windows event logs\n",
      "22     Network protocol analysis\n",
      "18     DLL monitoring\n",
      "18     Binary file metadata\n",
      "17     Azure activity logs\n",
      "15     AWS CloudTrail logs\n",
      "13     Stackdriver logs\n",
      "13     Loaded DLLs\n",
      "10     SSL/TLS inspection\n",
      "9      PowerShell logs\n",
      "9      Network intrusion detection system\n",
      "9      System calls\n",
      "9      Malware reverse engineering\n",
      "8      Anti-virus\n",
      "8      Network device logs\n",
      "7      Office 365 account logs\n",
      "7      Application logs\n",
      "7      Kernel drivers\n",
      "6      Data loss prevention\n",
      "5      Web proxy\n",
      "5      Email gateway\n",
      "4      Mail server\n",
      "4      Web logs\n",
      "4      Services\n",
      "4      Windows Error Reporting\n",
      "4      User interface\n",
      "4      Host network interface\n",
      "3      DNS records\n",
      "3      OAuth audit logs\n",
      "3      Web application firewall logs\n",
      "3      BIOS\n",
      "3      MBR\n",
      "3      Third-party application logs\n",
      "2      Office 365 trace logs\n",
      "2      Sensor health and status\n",
      "2      Component firmware\n",
      "2      Detonation chamber\n",
      "2      Environment variable\n",
      "1      Azure OS logs\n",
      "1      AWS OS logs\n",
      "1      Office 365 audit logs\n",
      "1      Asset management\n",
      "1      Browser extensions\n",
      "1      Access tokens\n",
      "1      Digital certificate logs\n",
      "1      Disk forensics\n",
      "1      WMI Objects\n",
      "1      VBR\n",
      "1      Named Pipes\n",
      "1      EFI\n"
     ]
    }
   ],
   "source": [
    "!python dettect.py generic --datasources"
   ]
  },
  {
   "cell_type": "code",
   "execution_count": null,
   "metadata": {},
   "outputs": [],
   "source": []
  }
 ],
 "metadata": {
  "kernelspec": {
   "display_name": "Python 3",
   "language": "python",
   "name": "python3"
  },
  "language_info": {
   "codemirror_mode": {
    "name": "ipython",
    "version": 3
   },
   "file_extension": ".py",
   "mimetype": "text/x-python",
   "name": "python",
   "nbconvert_exporter": "python",
   "pygments_lexer": "ipython3",
   "version": "3.7.4"
  },
  "varInspector": {
   "cols": {
    "lenName": 16,
    "lenType": 16,
    "lenVar": 40
   },
   "kernels_config": {
    "python": {
     "delete_cmd_postfix": "",
     "delete_cmd_prefix": "del ",
     "library": "var_list.py",
     "varRefreshCmd": "print(var_dic_list())"
    },
    "r": {
     "delete_cmd_postfix": ") ",
     "delete_cmd_prefix": "rm(",
     "library": "var_list.r",
     "varRefreshCmd": "cat(var_dic_list()) "
    }
   },
   "types_to_exclude": [
    "module",
    "function",
    "builtin_function_or_method",
    "instance",
    "_Feature"
   ],
   "window_display": false
  }
 },
 "nbformat": 4,
 "nbformat_minor": 4
}
